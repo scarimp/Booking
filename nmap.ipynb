{
  "cells": [
    {
      "cell_type": "markdown",
      "metadata": {
        "id": "view-in-github",
        "colab_type": "text"
      },
      "source": [
        "<a href=\"https://colab.research.google.com/github/scarimp/Booking/blob/master/nmap.ipynb\" target=\"_parent\"><img src=\"https://colab.research.google.com/assets/colab-badge.svg\" alt=\"Open In Colab\"/></a>"
      ]
    },
    {
      "cell_type": "markdown",
      "id": "15415581",
      "metadata": {
        "id": "15415581"
      },
      "source": [
        "##  Network mapping in jupyter\n",
        "\n",
        "https://www.dataschool.io/cloud-services-for-jupyter-notebook/\n",
        "\n",
        "https://mybinder.readthedocs.io/en/latest/introduction.html\n",
        "\n",
        "https://pypi.org/project/python3-nmap/\n",
        "\n",
        "https://www.nmmapper.com/sys/networkmapper/nmap/online-port-scanning/\n",
        "\n",
        "https://www.pythonpool.com/python-nmap/\n",
        "\n",
        "https://github.com/nmmapper/python3-nmap"
      ]
    },
    {
      "cell_type": "code",
      "source": [],
      "metadata": {
        "id": "l6k21yd2CyxV"
      },
      "id": "l6k21yd2CyxV",
      "execution_count": null,
      "outputs": []
    },
    {
      "cell_type": "code",
      "execution_count": null,
      "id": "d32e5966",
      "metadata": {
        "id": "d32e5966"
      },
      "outputs": [],
      "source": [
        "import nmap3\n",
        "#dir (nmap3.Nmap)"
      ]
    },
    {
      "cell_type": "code",
      "execution_count": null,
      "id": "41d7e141",
      "metadata": {
        "id": "41d7e141"
      },
      "outputs": [],
      "source": [
        "import nmap3\n",
        "nmap = nmap3.Nmap()\n",
        "result = nmap.nmap_version_detection(\"nmmapper.com\")\n"
      ]
    },
    {
      "cell_type": "code",
      "execution_count": null,
      "id": "d24a11f3",
      "metadata": {
        "id": "d24a11f3",
        "outputId": "4ce95b75-dfc6-47ef-b86a-14e47025aefa"
      },
      "outputs": [
        {
          "name": "stdout",
          "output_type": "stream",
          "text": [
            "{'188.114.97.7': {'osmatch': {}, 'ports': [{'protocol': 'tcp', 'portid': '80', 'state': 'open', 'reason': 'syn-ack', 'reason_ttl': '51', 'service': {'name': 'http', 'product': 'Cloudflare http proxy', 'method': 'probed', 'conf': '10'}, 'cpe': [], 'scripts': []}, {'protocol': 'tcp', 'portid': '443', 'state': 'open', 'reason': 'syn-ack', 'reason_ttl': '51', 'service': {'name': 'http', 'product': 'Cloudflare http proxy', 'tunnel': 'ssl', 'method': 'probed', 'conf': '10'}, 'cpe': [], 'scripts': []}, {'protocol': 'tcp', 'portid': '8080', 'state': 'open', 'reason': 'syn-ack', 'reason_ttl': '51', 'service': {'name': 'http', 'product': 'Cloudflare http proxy', 'method': 'probed', 'conf': '10'}, 'cpe': [], 'scripts': []}, {'protocol': 'tcp', 'portid': '8443', 'state': 'open', 'reason': 'syn-ack', 'reason_ttl': '51', 'service': {'name': 'http', 'product': 'Cloudflare http proxy', 'tunnel': 'ssl', 'method': 'probed', 'conf': '10'}, 'cpe': [], 'scripts': []}], 'hostname': [{'name': 'nmmapper.com', 'type': 'user'}], 'macaddress': None, 'state': {'state': 'up', 'reason': 'echo-reply', 'reason_ttl': '52'}}, 'runtime': {'time': '1673978715', 'timestr': 'Tue Jan 17 19:05:15 2023', 'summary': 'Nmap done at Tue Jan 17 19:05:15 2023; 1 IP address (1 host up) scanned in 39.25 seconds', 'elapsed': '39.25', 'exit': 'success'}, 'stats': {'scanner': 'nmap', 'args': 'C:/my_nmap/Nmap/nmap.exe -v -oX - -sV nmmapper.com', 'start': '1673978676', 'startstr': 'Tue Jan 17 19:04:36 2023', 'version': '7.93', 'xmloutputversion': '1.05'}, 'task_results': [{'task': 'Ping Scan', 'time': '1673978686', 'extrainfo': '1 total hosts'}, {'task': 'Parallel DNS resolution of 1 host.', 'time': '1673978686'}, {'task': 'SYN Stealth Scan', 'time': '1673978701', 'extrainfo': '1000 total ports'}, {'task': 'Service scan', 'time': '1673978714', 'extrainfo': '4 services on 1 host'}, {'task': 'NSE', 'time': '1673978715'}, {'task': 'NSE', 'time': '1673978715'}]}\n"
          ]
        }
      ],
      "source": [
        "print (result)"
      ]
    },
    {
      "cell_type": "code",
      "execution_count": null,
      "id": "0e073c05",
      "metadata": {
        "id": "0e073c05",
        "outputId": "bdc827d5-68fc-4f9b-96c8-735e3520ccbc"
      },
      "outputs": [
        {
          "name": "stdout",
          "output_type": "stream",
          "text": [
            "{'62.149.128.157': {'osmatch': {}, 'ports': [{'protocol': 'tcp', 'portid': '21', 'state': 'closed', 'reason': 'reset', 'reason_ttl': '55', 'service': {'name': 'ftp', 'method': 'table', 'conf': '3'}, 'cpe': [], 'scripts': []}, {'protocol': 'tcp', 'portid': '22', 'state': 'filtered', 'reason': 'no-response', 'reason_ttl': '0', 'service': {'name': 'ssh', 'method': 'table', 'conf': '3'}, 'cpe': [], 'scripts': []}, {'protocol': 'tcp', 'portid': '23', 'state': 'filtered', 'reason': 'no-response', 'reason_ttl': '0', 'service': {'name': 'telnet', 'method': 'table', 'conf': '3'}, 'cpe': [], 'scripts': []}, {'protocol': 'tcp', 'portid': '25', 'state': 'filtered', 'reason': 'no-response', 'reason_ttl': '0', 'service': {'name': 'smtp', 'method': 'table', 'conf': '3'}, 'cpe': [], 'scripts': []}, {'protocol': 'tcp', 'portid': '80', 'state': 'open', 'reason': 'syn-ack', 'reason_ttl': '55', 'service': {'name': 'http', 'method': 'table', 'conf': '3'}, 'cpe': [], 'scripts': []}, {'protocol': 'tcp', 'portid': '110', 'state': 'open', 'reason': 'syn-ack', 'reason_ttl': '55', 'service': {'name': 'pop3', 'method': 'table', 'conf': '3'}, 'cpe': [], 'scripts': []}, {'protocol': 'tcp', 'portid': '139', 'state': 'filtered', 'reason': 'no-response', 'reason_ttl': '0', 'service': {'name': 'netbios-ssn', 'method': 'table', 'conf': '3'}, 'cpe': [], 'scripts': []}, {'protocol': 'tcp', 'portid': '443', 'state': 'closed', 'reason': 'reset', 'reason_ttl': '55', 'service': {'name': 'https', 'method': 'table', 'conf': '3'}, 'cpe': [], 'scripts': []}, {'protocol': 'tcp', 'portid': '445', 'state': 'filtered', 'reason': 'no-response', 'reason_ttl': '0', 'service': {'name': 'microsoft-ds', 'method': 'table', 'conf': '3'}, 'cpe': [], 'scripts': []}, {'protocol': 'tcp', 'portid': '3389', 'state': 'filtered', 'reason': 'no-response', 'reason_ttl': '0', 'service': {'name': 'ms-wbt-server', 'method': 'table', 'conf': '3'}, 'cpe': [], 'scripts': []}], 'hostname': [{'name': 'idati.it', 'type': 'user'}, {'name': 'mxd8.aruba.it', 'type': 'PTR'}], 'macaddress': None, 'state': {'state': 'up', 'reason': 'echo-reply', 'reason_ttl': '55'}}, 'runtime': {'time': '1673979099', 'timestr': 'Tue Jan 17 19:11:39 2023', 'summary': 'Nmap done at Tue Jan 17 19:11:39 2023; 1 IP address (1 host up) scanned in 5.03 seconds', 'elapsed': '5.03', 'exit': 'success'}, 'stats': {'scanner': 'nmap', 'args': 'C:/my_nmap/Nmap/nmap.exe -v -oX - --top-ports 10 idati.it', 'start': '1673979094', 'startstr': 'Tue Jan 17 19:11:34 2023', 'version': '7.93', 'xmloutputversion': '1.05'}, 'task_results': [{'task': 'Ping Scan', 'time': '1673979098', 'extrainfo': '1 total hosts'}, {'task': 'Parallel DNS resolution of 1 host.', 'time': '1673979098'}, {'task': 'SYN Stealth Scan', 'time': '1673979099', 'extrainfo': '10 total ports'}]}\n"
          ]
        }
      ],
      "source": [
        "\n",
        "nmap = nmap3.Nmap()\n",
        "results = nmap.scan_top_ports(\"idati.it\")\n",
        "# And you would get your results in json\n",
        "print (results)\n"
      ]
    },
    {
      "cell_type": "code",
      "execution_count": null,
      "id": "b72ff3ee",
      "metadata": {
        "id": "b72ff3ee",
        "outputId": "51f93841-a659-461f-bfb6-4e283377c6a6"
      },
      "outputs": [
        {
          "name": "stdout",
          "output_type": "stream",
          "text": [
            "[{'address': '62.149.188.221', 'hostname': 'admin.idati.it'}, {'address': '31.170.123.80', 'hostname': 'web.idati.it'}, {'address': '31.170.123.80', 'hostname': 'blog.idati.it'}, {'address': '31.170.123.80', 'hostname': 'www.idati.it'}]\n"
          ]
        }
      ],
      "source": [
        "results = nmap.nmap_dns_brute_script(\"idati.it\")\n",
        "print (results)"
      ]
    },
    {
      "cell_type": "code",
      "execution_count": null,
      "id": "0d85fea0",
      "metadata": {
        "id": "0d85fea0"
      },
      "outputs": [],
      "source": []
    }
  ],
  "metadata": {
    "kernelspec": {
      "display_name": "Python 3 (ipykernel)",
      "language": "python",
      "name": "python3"
    },
    "language_info": {
      "codemirror_mode": {
        "name": "ipython",
        "version": 3
      },
      "file_extension": ".py",
      "mimetype": "text/x-python",
      "name": "python",
      "nbconvert_exporter": "python",
      "pygments_lexer": "ipython3",
      "version": "3.10.5"
    },
    "colab": {
      "provenance": [],
      "include_colab_link": true
    }
  },
  "nbformat": 4,
  "nbformat_minor": 5
}